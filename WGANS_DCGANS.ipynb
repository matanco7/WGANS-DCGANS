{
  "nbformat": 4,
  "nbformat_minor": 0,
  "metadata": {
    "colab": {
      "provenance": [],
      "collapsed_sections": []
    },
    "kernelspec": {
      "name": "python3",
      "display_name": "Python 3"
    },
    "language_info": {
      "name": "python"
    },
    "gpuClass": "standard",
    "accelerator": "GPU",
    "widgets": {
      "application/vnd.jupyter.widget-state+json": {
        "9ed8135772cc405abcf72bf6c1a727b6": {
          "model_module": "@jupyter-widgets/controls",
          "model_name": "HBoxModel",
          "model_module_version": "1.5.0",
          "state": {
            "_dom_classes": [],
            "_model_module": "@jupyter-widgets/controls",
            "_model_module_version": "1.5.0",
            "_model_name": "HBoxModel",
            "_view_count": null,
            "_view_module": "@jupyter-widgets/controls",
            "_view_module_version": "1.5.0",
            "_view_name": "HBoxView",
            "box_style": "",
            "children": [
              "IPY_MODEL_59dce47600f64a8c81215e769317c345",
              "IPY_MODEL_78d0c4c28176455fb096f5451b0ee2e4",
              "IPY_MODEL_1fbec16fe1cf42b2949b6a2fec2badba"
            ],
            "layout": "IPY_MODEL_16492d8f7d6341f598b6ac00093991a5"
          }
        },
        "59dce47600f64a8c81215e769317c345": {
          "model_module": "@jupyter-widgets/controls",
          "model_name": "HTMLModel",
          "model_module_version": "1.5.0",
          "state": {
            "_dom_classes": [],
            "_model_module": "@jupyter-widgets/controls",
            "_model_module_version": "1.5.0",
            "_model_name": "HTMLModel",
            "_view_count": null,
            "_view_module": "@jupyter-widgets/controls",
            "_view_module_version": "1.5.0",
            "_view_name": "HTMLView",
            "description": "",
            "description_tooltip": null,
            "layout": "IPY_MODEL_07c11129164945af8129eabc10190a11",
            "placeholder": "​",
            "style": "IPY_MODEL_e2ef24ce515545d597d0568fbe6d4094",
            "value": "100%"
          }
        },
        "78d0c4c28176455fb096f5451b0ee2e4": {
          "model_module": "@jupyter-widgets/controls",
          "model_name": "FloatProgressModel",
          "model_module_version": "1.5.0",
          "state": {
            "_dom_classes": [],
            "_model_module": "@jupyter-widgets/controls",
            "_model_module_version": "1.5.0",
            "_model_name": "FloatProgressModel",
            "_view_count": null,
            "_view_module": "@jupyter-widgets/controls",
            "_view_module_version": "1.5.0",
            "_view_name": "ProgressView",
            "bar_style": "success",
            "description": "",
            "description_tooltip": null,
            "layout": "IPY_MODEL_b85223590d664203b1b6bbd6257ad834",
            "max": 26421880,
            "min": 0,
            "orientation": "horizontal",
            "style": "IPY_MODEL_771efa958bcf48bca934e4ad5b13bd13",
            "value": 26421880
          }
        },
        "1fbec16fe1cf42b2949b6a2fec2badba": {
          "model_module": "@jupyter-widgets/controls",
          "model_name": "HTMLModel",
          "model_module_version": "1.5.0",
          "state": {
            "_dom_classes": [],
            "_model_module": "@jupyter-widgets/controls",
            "_model_module_version": "1.5.0",
            "_model_name": "HTMLModel",
            "_view_count": null,
            "_view_module": "@jupyter-widgets/controls",
            "_view_module_version": "1.5.0",
            "_view_name": "HTMLView",
            "description": "",
            "description_tooltip": null,
            "layout": "IPY_MODEL_95df37d33d5042c5ab36bb958a7630c5",
            "placeholder": "​",
            "style": "IPY_MODEL_e1cc54d855f44a54ba3ddd8070816d94",
            "value": " 26421880/26421880 [00:00&lt;00:00, 119900325.29it/s]"
          }
        },
        "16492d8f7d6341f598b6ac00093991a5": {
          "model_module": "@jupyter-widgets/base",
          "model_name": "LayoutModel",
          "model_module_version": "1.2.0",
          "state": {
            "_model_module": "@jupyter-widgets/base",
            "_model_module_version": "1.2.0",
            "_model_name": "LayoutModel",
            "_view_count": null,
            "_view_module": "@jupyter-widgets/base",
            "_view_module_version": "1.2.0",
            "_view_name": "LayoutView",
            "align_content": null,
            "align_items": null,
            "align_self": null,
            "border": null,
            "bottom": null,
            "display": null,
            "flex": null,
            "flex_flow": null,
            "grid_area": null,
            "grid_auto_columns": null,
            "grid_auto_flow": null,
            "grid_auto_rows": null,
            "grid_column": null,
            "grid_gap": null,
            "grid_row": null,
            "grid_template_areas": null,
            "grid_template_columns": null,
            "grid_template_rows": null,
            "height": null,
            "justify_content": null,
            "justify_items": null,
            "left": null,
            "margin": null,
            "max_height": null,
            "max_width": null,
            "min_height": null,
            "min_width": null,
            "object_fit": null,
            "object_position": null,
            "order": null,
            "overflow": null,
            "overflow_x": null,
            "overflow_y": null,
            "padding": null,
            "right": null,
            "top": null,
            "visibility": null,
            "width": null
          }
        },
        "07c11129164945af8129eabc10190a11": {
          "model_module": "@jupyter-widgets/base",
          "model_name": "LayoutModel",
          "model_module_version": "1.2.0",
          "state": {
            "_model_module": "@jupyter-widgets/base",
            "_model_module_version": "1.2.0",
            "_model_name": "LayoutModel",
            "_view_count": null,
            "_view_module": "@jupyter-widgets/base",
            "_view_module_version": "1.2.0",
            "_view_name": "LayoutView",
            "align_content": null,
            "align_items": null,
            "align_self": null,
            "border": null,
            "bottom": null,
            "display": null,
            "flex": null,
            "flex_flow": null,
            "grid_area": null,
            "grid_auto_columns": null,
            "grid_auto_flow": null,
            "grid_auto_rows": null,
            "grid_column": null,
            "grid_gap": null,
            "grid_row": null,
            "grid_template_areas": null,
            "grid_template_columns": null,
            "grid_template_rows": null,
            "height": null,
            "justify_content": null,
            "justify_items": null,
            "left": null,
            "margin": null,
            "max_height": null,
            "max_width": null,
            "min_height": null,
            "min_width": null,
            "object_fit": null,
            "object_position": null,
            "order": null,
            "overflow": null,
            "overflow_x": null,
            "overflow_y": null,
            "padding": null,
            "right": null,
            "top": null,
            "visibility": null,
            "width": null
          }
        },
        "e2ef24ce515545d597d0568fbe6d4094": {
          "model_module": "@jupyter-widgets/controls",
          "model_name": "DescriptionStyleModel",
          "model_module_version": "1.5.0",
          "state": {
            "_model_module": "@jupyter-widgets/controls",
            "_model_module_version": "1.5.0",
            "_model_name": "DescriptionStyleModel",
            "_view_count": null,
            "_view_module": "@jupyter-widgets/base",
            "_view_module_version": "1.2.0",
            "_view_name": "StyleView",
            "description_width": ""
          }
        },
        "b85223590d664203b1b6bbd6257ad834": {
          "model_module": "@jupyter-widgets/base",
          "model_name": "LayoutModel",
          "model_module_version": "1.2.0",
          "state": {
            "_model_module": "@jupyter-widgets/base",
            "_model_module_version": "1.2.0",
            "_model_name": "LayoutModel",
            "_view_count": null,
            "_view_module": "@jupyter-widgets/base",
            "_view_module_version": "1.2.0",
            "_view_name": "LayoutView",
            "align_content": null,
            "align_items": null,
            "align_self": null,
            "border": null,
            "bottom": null,
            "display": null,
            "flex": null,
            "flex_flow": null,
            "grid_area": null,
            "grid_auto_columns": null,
            "grid_auto_flow": null,
            "grid_auto_rows": null,
            "grid_column": null,
            "grid_gap": null,
            "grid_row": null,
            "grid_template_areas": null,
            "grid_template_columns": null,
            "grid_template_rows": null,
            "height": null,
            "justify_content": null,
            "justify_items": null,
            "left": null,
            "margin": null,
            "max_height": null,
            "max_width": null,
            "min_height": null,
            "min_width": null,
            "object_fit": null,
            "object_position": null,
            "order": null,
            "overflow": null,
            "overflow_x": null,
            "overflow_y": null,
            "padding": null,
            "right": null,
            "top": null,
            "visibility": null,
            "width": null
          }
        },
        "771efa958bcf48bca934e4ad5b13bd13": {
          "model_module": "@jupyter-widgets/controls",
          "model_name": "ProgressStyleModel",
          "model_module_version": "1.5.0",
          "state": {
            "_model_module": "@jupyter-widgets/controls",
            "_model_module_version": "1.5.0",
            "_model_name": "ProgressStyleModel",
            "_view_count": null,
            "_view_module": "@jupyter-widgets/base",
            "_view_module_version": "1.2.0",
            "_view_name": "StyleView",
            "bar_color": null,
            "description_width": ""
          }
        },
        "95df37d33d5042c5ab36bb958a7630c5": {
          "model_module": "@jupyter-widgets/base",
          "model_name": "LayoutModel",
          "model_module_version": "1.2.0",
          "state": {
            "_model_module": "@jupyter-widgets/base",
            "_model_module_version": "1.2.0",
            "_model_name": "LayoutModel",
            "_view_count": null,
            "_view_module": "@jupyter-widgets/base",
            "_view_module_version": "1.2.0",
            "_view_name": "LayoutView",
            "align_content": null,
            "align_items": null,
            "align_self": null,
            "border": null,
            "bottom": null,
            "display": null,
            "flex": null,
            "flex_flow": null,
            "grid_area": null,
            "grid_auto_columns": null,
            "grid_auto_flow": null,
            "grid_auto_rows": null,
            "grid_column": null,
            "grid_gap": null,
            "grid_row": null,
            "grid_template_areas": null,
            "grid_template_columns": null,
            "grid_template_rows": null,
            "height": null,
            "justify_content": null,
            "justify_items": null,
            "left": null,
            "margin": null,
            "max_height": null,
            "max_width": null,
            "min_height": null,
            "min_width": null,
            "object_fit": null,
            "object_position": null,
            "order": null,
            "overflow": null,
            "overflow_x": null,
            "overflow_y": null,
            "padding": null,
            "right": null,
            "top": null,
            "visibility": null,
            "width": null
          }
        },
        "e1cc54d855f44a54ba3ddd8070816d94": {
          "model_module": "@jupyter-widgets/controls",
          "model_name": "DescriptionStyleModel",
          "model_module_version": "1.5.0",
          "state": {
            "_model_module": "@jupyter-widgets/controls",
            "_model_module_version": "1.5.0",
            "_model_name": "DescriptionStyleModel",
            "_view_count": null,
            "_view_module": "@jupyter-widgets/base",
            "_view_module_version": "1.2.0",
            "_view_name": "StyleView",
            "description_width": ""
          }
        },
        "31fb5f8d5cc54ea088a0962dca063d54": {
          "model_module": "@jupyter-widgets/controls",
          "model_name": "HBoxModel",
          "model_module_version": "1.5.0",
          "state": {
            "_dom_classes": [],
            "_model_module": "@jupyter-widgets/controls",
            "_model_module_version": "1.5.0",
            "_model_name": "HBoxModel",
            "_view_count": null,
            "_view_module": "@jupyter-widgets/controls",
            "_view_module_version": "1.5.0",
            "_view_name": "HBoxView",
            "box_style": "",
            "children": [
              "IPY_MODEL_574763c62f114449933add0096ff5575",
              "IPY_MODEL_ea66ef45f36349cdbce457eee645aba3",
              "IPY_MODEL_61706dcfb7c94f878051898c04af5e2f"
            ],
            "layout": "IPY_MODEL_d22ed0c12b614e35899049b061a96863"
          }
        },
        "574763c62f114449933add0096ff5575": {
          "model_module": "@jupyter-widgets/controls",
          "model_name": "HTMLModel",
          "model_module_version": "1.5.0",
          "state": {
            "_dom_classes": [],
            "_model_module": "@jupyter-widgets/controls",
            "_model_module_version": "1.5.0",
            "_model_name": "HTMLModel",
            "_view_count": null,
            "_view_module": "@jupyter-widgets/controls",
            "_view_module_version": "1.5.0",
            "_view_name": "HTMLView",
            "description": "",
            "description_tooltip": null,
            "layout": "IPY_MODEL_c48587b1dcc24632b677a93833154f29",
            "placeholder": "​",
            "style": "IPY_MODEL_d2efa113c2364b88b361c16923a7fd04",
            "value": "100%"
          }
        },
        "ea66ef45f36349cdbce457eee645aba3": {
          "model_module": "@jupyter-widgets/controls",
          "model_name": "FloatProgressModel",
          "model_module_version": "1.5.0",
          "state": {
            "_dom_classes": [],
            "_model_module": "@jupyter-widgets/controls",
            "_model_module_version": "1.5.0",
            "_model_name": "FloatProgressModel",
            "_view_count": null,
            "_view_module": "@jupyter-widgets/controls",
            "_view_module_version": "1.5.0",
            "_view_name": "ProgressView",
            "bar_style": "success",
            "description": "",
            "description_tooltip": null,
            "layout": "IPY_MODEL_c9acf313aa9643bda097ba9a1a22d0f3",
            "max": 29515,
            "min": 0,
            "orientation": "horizontal",
            "style": "IPY_MODEL_553c8bb345284114bc8bce7ce13688ed",
            "value": 29515
          }
        },
        "61706dcfb7c94f878051898c04af5e2f": {
          "model_module": "@jupyter-widgets/controls",
          "model_name": "HTMLModel",
          "model_module_version": "1.5.0",
          "state": {
            "_dom_classes": [],
            "_model_module": "@jupyter-widgets/controls",
            "_model_module_version": "1.5.0",
            "_model_name": "HTMLModel",
            "_view_count": null,
            "_view_module": "@jupyter-widgets/controls",
            "_view_module_version": "1.5.0",
            "_view_name": "HTMLView",
            "description": "",
            "description_tooltip": null,
            "layout": "IPY_MODEL_c889232e37904e88a15dd5bd698b7ee8",
            "placeholder": "​",
            "style": "IPY_MODEL_f573b3fa32d14a9f9d1d52d96d31bf09",
            "value": " 29515/29515 [00:00&lt;00:00, 878332.96it/s]"
          }
        },
        "d22ed0c12b614e35899049b061a96863": {
          "model_module": "@jupyter-widgets/base",
          "model_name": "LayoutModel",
          "model_module_version": "1.2.0",
          "state": {
            "_model_module": "@jupyter-widgets/base",
            "_model_module_version": "1.2.0",
            "_model_name": "LayoutModel",
            "_view_count": null,
            "_view_module": "@jupyter-widgets/base",
            "_view_module_version": "1.2.0",
            "_view_name": "LayoutView",
            "align_content": null,
            "align_items": null,
            "align_self": null,
            "border": null,
            "bottom": null,
            "display": null,
            "flex": null,
            "flex_flow": null,
            "grid_area": null,
            "grid_auto_columns": null,
            "grid_auto_flow": null,
            "grid_auto_rows": null,
            "grid_column": null,
            "grid_gap": null,
            "grid_row": null,
            "grid_template_areas": null,
            "grid_template_columns": null,
            "grid_template_rows": null,
            "height": null,
            "justify_content": null,
            "justify_items": null,
            "left": null,
            "margin": null,
            "max_height": null,
            "max_width": null,
            "min_height": null,
            "min_width": null,
            "object_fit": null,
            "object_position": null,
            "order": null,
            "overflow": null,
            "overflow_x": null,
            "overflow_y": null,
            "padding": null,
            "right": null,
            "top": null,
            "visibility": null,
            "width": null
          }
        },
        "c48587b1dcc24632b677a93833154f29": {
          "model_module": "@jupyter-widgets/base",
          "model_name": "LayoutModel",
          "model_module_version": "1.2.0",
          "state": {
            "_model_module": "@jupyter-widgets/base",
            "_model_module_version": "1.2.0",
            "_model_name": "LayoutModel",
            "_view_count": null,
            "_view_module": "@jupyter-widgets/base",
            "_view_module_version": "1.2.0",
            "_view_name": "LayoutView",
            "align_content": null,
            "align_items": null,
            "align_self": null,
            "border": null,
            "bottom": null,
            "display": null,
            "flex": null,
            "flex_flow": null,
            "grid_area": null,
            "grid_auto_columns": null,
            "grid_auto_flow": null,
            "grid_auto_rows": null,
            "grid_column": null,
            "grid_gap": null,
            "grid_row": null,
            "grid_template_areas": null,
            "grid_template_columns": null,
            "grid_template_rows": null,
            "height": null,
            "justify_content": null,
            "justify_items": null,
            "left": null,
            "margin": null,
            "max_height": null,
            "max_width": null,
            "min_height": null,
            "min_width": null,
            "object_fit": null,
            "object_position": null,
            "order": null,
            "overflow": null,
            "overflow_x": null,
            "overflow_y": null,
            "padding": null,
            "right": null,
            "top": null,
            "visibility": null,
            "width": null
          }
        },
        "d2efa113c2364b88b361c16923a7fd04": {
          "model_module": "@jupyter-widgets/controls",
          "model_name": "DescriptionStyleModel",
          "model_module_version": "1.5.0",
          "state": {
            "_model_module": "@jupyter-widgets/controls",
            "_model_module_version": "1.5.0",
            "_model_name": "DescriptionStyleModel",
            "_view_count": null,
            "_view_module": "@jupyter-widgets/base",
            "_view_module_version": "1.2.0",
            "_view_name": "StyleView",
            "description_width": ""
          }
        },
        "c9acf313aa9643bda097ba9a1a22d0f3": {
          "model_module": "@jupyter-widgets/base",
          "model_name": "LayoutModel",
          "model_module_version": "1.2.0",
          "state": {
            "_model_module": "@jupyter-widgets/base",
            "_model_module_version": "1.2.0",
            "_model_name": "LayoutModel",
            "_view_count": null,
            "_view_module": "@jupyter-widgets/base",
            "_view_module_version": "1.2.0",
            "_view_name": "LayoutView",
            "align_content": null,
            "align_items": null,
            "align_self": null,
            "border": null,
            "bottom": null,
            "display": null,
            "flex": null,
            "flex_flow": null,
            "grid_area": null,
            "grid_auto_columns": null,
            "grid_auto_flow": null,
            "grid_auto_rows": null,
            "grid_column": null,
            "grid_gap": null,
            "grid_row": null,
            "grid_template_areas": null,
            "grid_template_columns": null,
            "grid_template_rows": null,
            "height": null,
            "justify_content": null,
            "justify_items": null,
            "left": null,
            "margin": null,
            "max_height": null,
            "max_width": null,
            "min_height": null,
            "min_width": null,
            "object_fit": null,
            "object_position": null,
            "order": null,
            "overflow": null,
            "overflow_x": null,
            "overflow_y": null,
            "padding": null,
            "right": null,
            "top": null,
            "visibility": null,
            "width": null
          }
        },
        "553c8bb345284114bc8bce7ce13688ed": {
          "model_module": "@jupyter-widgets/controls",
          "model_name": "ProgressStyleModel",
          "model_module_version": "1.5.0",
          "state": {
            "_model_module": "@jupyter-widgets/controls",
            "_model_module_version": "1.5.0",
            "_model_name": "ProgressStyleModel",
            "_view_count": null,
            "_view_module": "@jupyter-widgets/base",
            "_view_module_version": "1.2.0",
            "_view_name": "StyleView",
            "bar_color": null,
            "description_width": ""
          }
        },
        "c889232e37904e88a15dd5bd698b7ee8": {
          "model_module": "@jupyter-widgets/base",
          "model_name": "LayoutModel",
          "model_module_version": "1.2.0",
          "state": {
            "_model_module": "@jupyter-widgets/base",
            "_model_module_version": "1.2.0",
            "_model_name": "LayoutModel",
            "_view_count": null,
            "_view_module": "@jupyter-widgets/base",
            "_view_module_version": "1.2.0",
            "_view_name": "LayoutView",
            "align_content": null,
            "align_items": null,
            "align_self": null,
            "border": null,
            "bottom": null,
            "display": null,
            "flex": null,
            "flex_flow": null,
            "grid_area": null,
            "grid_auto_columns": null,
            "grid_auto_flow": null,
            "grid_auto_rows": null,
            "grid_column": null,
            "grid_gap": null,
            "grid_row": null,
            "grid_template_areas": null,
            "grid_template_columns": null,
            "grid_template_rows": null,
            "height": null,
            "justify_content": null,
            "justify_items": null,
            "left": null,
            "margin": null,
            "max_height": null,
            "max_width": null,
            "min_height": null,
            "min_width": null,
            "object_fit": null,
            "object_position": null,
            "order": null,
            "overflow": null,
            "overflow_x": null,
            "overflow_y": null,
            "padding": null,
            "right": null,
            "top": null,
            "visibility": null,
            "width": null
          }
        },
        "f573b3fa32d14a9f9d1d52d96d31bf09": {
          "model_module": "@jupyter-widgets/controls",
          "model_name": "DescriptionStyleModel",
          "model_module_version": "1.5.0",
          "state": {
            "_model_module": "@jupyter-widgets/controls",
            "_model_module_version": "1.5.0",
            "_model_name": "DescriptionStyleModel",
            "_view_count": null,
            "_view_module": "@jupyter-widgets/base",
            "_view_module_version": "1.2.0",
            "_view_name": "StyleView",
            "description_width": ""
          }
        },
        "53df761d649e439b9434c765a8b2f5e1": {
          "model_module": "@jupyter-widgets/controls",
          "model_name": "HBoxModel",
          "model_module_version": "1.5.0",
          "state": {
            "_dom_classes": [],
            "_model_module": "@jupyter-widgets/controls",
            "_model_module_version": "1.5.0",
            "_model_name": "HBoxModel",
            "_view_count": null,
            "_view_module": "@jupyter-widgets/controls",
            "_view_module_version": "1.5.0",
            "_view_name": "HBoxView",
            "box_style": "",
            "children": [
              "IPY_MODEL_9bb860a6335b47f8bf24d8c93d13d324",
              "IPY_MODEL_411f1f80a1a34a5d9ae0065afb0467c6",
              "IPY_MODEL_74af74065ab94b688f14984b879cfa5a"
            ],
            "layout": "IPY_MODEL_fceb4750c8ab49d4bbc06f569fb6e3a1"
          }
        },
        "9bb860a6335b47f8bf24d8c93d13d324": {
          "model_module": "@jupyter-widgets/controls",
          "model_name": "HTMLModel",
          "model_module_version": "1.5.0",
          "state": {
            "_dom_classes": [],
            "_model_module": "@jupyter-widgets/controls",
            "_model_module_version": "1.5.0",
            "_model_name": "HTMLModel",
            "_view_count": null,
            "_view_module": "@jupyter-widgets/controls",
            "_view_module_version": "1.5.0",
            "_view_name": "HTMLView",
            "description": "",
            "description_tooltip": null,
            "layout": "IPY_MODEL_690e14e7c00a4b7ea42bfce26df50654",
            "placeholder": "​",
            "style": "IPY_MODEL_724f7c5d0b8c4ab1a4af20d7d36c9c06",
            "value": "100%"
          }
        },
        "411f1f80a1a34a5d9ae0065afb0467c6": {
          "model_module": "@jupyter-widgets/controls",
          "model_name": "FloatProgressModel",
          "model_module_version": "1.5.0",
          "state": {
            "_dom_classes": [],
            "_model_module": "@jupyter-widgets/controls",
            "_model_module_version": "1.5.0",
            "_model_name": "FloatProgressModel",
            "_view_count": null,
            "_view_module": "@jupyter-widgets/controls",
            "_view_module_version": "1.5.0",
            "_view_name": "ProgressView",
            "bar_style": "success",
            "description": "",
            "description_tooltip": null,
            "layout": "IPY_MODEL_2fff046448c04616a753cc74677dc76a",
            "max": 4422102,
            "min": 0,
            "orientation": "horizontal",
            "style": "IPY_MODEL_c3ef7840b3f147c1bc3d09690cf31c0f",
            "value": 4422102
          }
        },
        "74af74065ab94b688f14984b879cfa5a": {
          "model_module": "@jupyter-widgets/controls",
          "model_name": "HTMLModel",
          "model_module_version": "1.5.0",
          "state": {
            "_dom_classes": [],
            "_model_module": "@jupyter-widgets/controls",
            "_model_module_version": "1.5.0",
            "_model_name": "HTMLModel",
            "_view_count": null,
            "_view_module": "@jupyter-widgets/controls",
            "_view_module_version": "1.5.0",
            "_view_name": "HTMLView",
            "description": "",
            "description_tooltip": null,
            "layout": "IPY_MODEL_6e38eeae24cb46adb3aaaee7970461db",
            "placeholder": "​",
            "style": "IPY_MODEL_9832fbf06c904c04aad3fd12ae66bb1d",
            "value": " 4422102/4422102 [00:00&lt;00:00, 50733583.63it/s]"
          }
        },
        "fceb4750c8ab49d4bbc06f569fb6e3a1": {
          "model_module": "@jupyter-widgets/base",
          "model_name": "LayoutModel",
          "model_module_version": "1.2.0",
          "state": {
            "_model_module": "@jupyter-widgets/base",
            "_model_module_version": "1.2.0",
            "_model_name": "LayoutModel",
            "_view_count": null,
            "_view_module": "@jupyter-widgets/base",
            "_view_module_version": "1.2.0",
            "_view_name": "LayoutView",
            "align_content": null,
            "align_items": null,
            "align_self": null,
            "border": null,
            "bottom": null,
            "display": null,
            "flex": null,
            "flex_flow": null,
            "grid_area": null,
            "grid_auto_columns": null,
            "grid_auto_flow": null,
            "grid_auto_rows": null,
            "grid_column": null,
            "grid_gap": null,
            "grid_row": null,
            "grid_template_areas": null,
            "grid_template_columns": null,
            "grid_template_rows": null,
            "height": null,
            "justify_content": null,
            "justify_items": null,
            "left": null,
            "margin": null,
            "max_height": null,
            "max_width": null,
            "min_height": null,
            "min_width": null,
            "object_fit": null,
            "object_position": null,
            "order": null,
            "overflow": null,
            "overflow_x": null,
            "overflow_y": null,
            "padding": null,
            "right": null,
            "top": null,
            "visibility": null,
            "width": null
          }
        },
        "690e14e7c00a4b7ea42bfce26df50654": {
          "model_module": "@jupyter-widgets/base",
          "model_name": "LayoutModel",
          "model_module_version": "1.2.0",
          "state": {
            "_model_module": "@jupyter-widgets/base",
            "_model_module_version": "1.2.0",
            "_model_name": "LayoutModel",
            "_view_count": null,
            "_view_module": "@jupyter-widgets/base",
            "_view_module_version": "1.2.0",
            "_view_name": "LayoutView",
            "align_content": null,
            "align_items": null,
            "align_self": null,
            "border": null,
            "bottom": null,
            "display": null,
            "flex": null,
            "flex_flow": null,
            "grid_area": null,
            "grid_auto_columns": null,
            "grid_auto_flow": null,
            "grid_auto_rows": null,
            "grid_column": null,
            "grid_gap": null,
            "grid_row": null,
            "grid_template_areas": null,
            "grid_template_columns": null,
            "grid_template_rows": null,
            "height": null,
            "justify_content": null,
            "justify_items": null,
            "left": null,
            "margin": null,
            "max_height": null,
            "max_width": null,
            "min_height": null,
            "min_width": null,
            "object_fit": null,
            "object_position": null,
            "order": null,
            "overflow": null,
            "overflow_x": null,
            "overflow_y": null,
            "padding": null,
            "right": null,
            "top": null,
            "visibility": null,
            "width": null
          }
        },
        "724f7c5d0b8c4ab1a4af20d7d36c9c06": {
          "model_module": "@jupyter-widgets/controls",
          "model_name": "DescriptionStyleModel",
          "model_module_version": "1.5.0",
          "state": {
            "_model_module": "@jupyter-widgets/controls",
            "_model_module_version": "1.5.0",
            "_model_name": "DescriptionStyleModel",
            "_view_count": null,
            "_view_module": "@jupyter-widgets/base",
            "_view_module_version": "1.2.0",
            "_view_name": "StyleView",
            "description_width": ""
          }
        },
        "2fff046448c04616a753cc74677dc76a": {
          "model_module": "@jupyter-widgets/base",
          "model_name": "LayoutModel",
          "model_module_version": "1.2.0",
          "state": {
            "_model_module": "@jupyter-widgets/base",
            "_model_module_version": "1.2.0",
            "_model_name": "LayoutModel",
            "_view_count": null,
            "_view_module": "@jupyter-widgets/base",
            "_view_module_version": "1.2.0",
            "_view_name": "LayoutView",
            "align_content": null,
            "align_items": null,
            "align_self": null,
            "border": null,
            "bottom": null,
            "display": null,
            "flex": null,
            "flex_flow": null,
            "grid_area": null,
            "grid_auto_columns": null,
            "grid_auto_flow": null,
            "grid_auto_rows": null,
            "grid_column": null,
            "grid_gap": null,
            "grid_row": null,
            "grid_template_areas": null,
            "grid_template_columns": null,
            "grid_template_rows": null,
            "height": null,
            "justify_content": null,
            "justify_items": null,
            "left": null,
            "margin": null,
            "max_height": null,
            "max_width": null,
            "min_height": null,
            "min_width": null,
            "object_fit": null,
            "object_position": null,
            "order": null,
            "overflow": null,
            "overflow_x": null,
            "overflow_y": null,
            "padding": null,
            "right": null,
            "top": null,
            "visibility": null,
            "width": null
          }
        },
        "c3ef7840b3f147c1bc3d09690cf31c0f": {
          "model_module": "@jupyter-widgets/controls",
          "model_name": "ProgressStyleModel",
          "model_module_version": "1.5.0",
          "state": {
            "_model_module": "@jupyter-widgets/controls",
            "_model_module_version": "1.5.0",
            "_model_name": "ProgressStyleModel",
            "_view_count": null,
            "_view_module": "@jupyter-widgets/base",
            "_view_module_version": "1.2.0",
            "_view_name": "StyleView",
            "bar_color": null,
            "description_width": ""
          }
        },
        "6e38eeae24cb46adb3aaaee7970461db": {
          "model_module": "@jupyter-widgets/base",
          "model_name": "LayoutModel",
          "model_module_version": "1.2.0",
          "state": {
            "_model_module": "@jupyter-widgets/base",
            "_model_module_version": "1.2.0",
            "_model_name": "LayoutModel",
            "_view_count": null,
            "_view_module": "@jupyter-widgets/base",
            "_view_module_version": "1.2.0",
            "_view_name": "LayoutView",
            "align_content": null,
            "align_items": null,
            "align_self": null,
            "border": null,
            "bottom": null,
            "display": null,
            "flex": null,
            "flex_flow": null,
            "grid_area": null,
            "grid_auto_columns": null,
            "grid_auto_flow": null,
            "grid_auto_rows": null,
            "grid_column": null,
            "grid_gap": null,
            "grid_row": null,
            "grid_template_areas": null,
            "grid_template_columns": null,
            "grid_template_rows": null,
            "height": null,
            "justify_content": null,
            "justify_items": null,
            "left": null,
            "margin": null,
            "max_height": null,
            "max_width": null,
            "min_height": null,
            "min_width": null,
            "object_fit": null,
            "object_position": null,
            "order": null,
            "overflow": null,
            "overflow_x": null,
            "overflow_y": null,
            "padding": null,
            "right": null,
            "top": null,
            "visibility": null,
            "width": null
          }
        },
        "9832fbf06c904c04aad3fd12ae66bb1d": {
          "model_module": "@jupyter-widgets/controls",
          "model_name": "DescriptionStyleModel",
          "model_module_version": "1.5.0",
          "state": {
            "_model_module": "@jupyter-widgets/controls",
            "_model_module_version": "1.5.0",
            "_model_name": "DescriptionStyleModel",
            "_view_count": null,
            "_view_module": "@jupyter-widgets/base",
            "_view_module_version": "1.2.0",
            "_view_name": "StyleView",
            "description_width": ""
          }
        },
        "9c7a2caa30144d25830de744449b288e": {
          "model_module": "@jupyter-widgets/controls",
          "model_name": "HBoxModel",
          "model_module_version": "1.5.0",
          "state": {
            "_dom_classes": [],
            "_model_module": "@jupyter-widgets/controls",
            "_model_module_version": "1.5.0",
            "_model_name": "HBoxModel",
            "_view_count": null,
            "_view_module": "@jupyter-widgets/controls",
            "_view_module_version": "1.5.0",
            "_view_name": "HBoxView",
            "box_style": "",
            "children": [
              "IPY_MODEL_3e4330daad0f416fb59c890fac6acbb6",
              "IPY_MODEL_98bef8c631594eda8acc9f6bf9c42eb0",
              "IPY_MODEL_adb73489d206404ebcb9af0a940407be"
            ],
            "layout": "IPY_MODEL_baf767b627f547d1a05a87c0ea99cbb5"
          }
        },
        "3e4330daad0f416fb59c890fac6acbb6": {
          "model_module": "@jupyter-widgets/controls",
          "model_name": "HTMLModel",
          "model_module_version": "1.5.0",
          "state": {
            "_dom_classes": [],
            "_model_module": "@jupyter-widgets/controls",
            "_model_module_version": "1.5.0",
            "_model_name": "HTMLModel",
            "_view_count": null,
            "_view_module": "@jupyter-widgets/controls",
            "_view_module_version": "1.5.0",
            "_view_name": "HTMLView",
            "description": "",
            "description_tooltip": null,
            "layout": "IPY_MODEL_737967bbf8d94f1ba216f8b541c40767",
            "placeholder": "​",
            "style": "IPY_MODEL_9fd5de08ddce4c9dbda129462d9b3a78",
            "value": "100%"
          }
        },
        "98bef8c631594eda8acc9f6bf9c42eb0": {
          "model_module": "@jupyter-widgets/controls",
          "model_name": "FloatProgressModel",
          "model_module_version": "1.5.0",
          "state": {
            "_dom_classes": [],
            "_model_module": "@jupyter-widgets/controls",
            "_model_module_version": "1.5.0",
            "_model_name": "FloatProgressModel",
            "_view_count": null,
            "_view_module": "@jupyter-widgets/controls",
            "_view_module_version": "1.5.0",
            "_view_name": "ProgressView",
            "bar_style": "success",
            "description": "",
            "description_tooltip": null,
            "layout": "IPY_MODEL_32292211ca3b4ab2ad1103e7fb6531d9",
            "max": 5148,
            "min": 0,
            "orientation": "horizontal",
            "style": "IPY_MODEL_6abfa5fed8804a2fa0f2a74b67a994d1",
            "value": 5148
          }
        },
        "adb73489d206404ebcb9af0a940407be": {
          "model_module": "@jupyter-widgets/controls",
          "model_name": "HTMLModel",
          "model_module_version": "1.5.0",
          "state": {
            "_dom_classes": [],
            "_model_module": "@jupyter-widgets/controls",
            "_model_module_version": "1.5.0",
            "_model_name": "HTMLModel",
            "_view_count": null,
            "_view_module": "@jupyter-widgets/controls",
            "_view_module_version": "1.5.0",
            "_view_name": "HTMLView",
            "description": "",
            "description_tooltip": null,
            "layout": "IPY_MODEL_148abeba39ba4059bd55334981996ff4",
            "placeholder": "​",
            "style": "IPY_MODEL_75b5a101ea594b899030f734ff4f0021",
            "value": " 5148/5148 [00:00&lt;00:00, 180886.80it/s]"
          }
        },
        "baf767b627f547d1a05a87c0ea99cbb5": {
          "model_module": "@jupyter-widgets/base",
          "model_name": "LayoutModel",
          "model_module_version": "1.2.0",
          "state": {
            "_model_module": "@jupyter-widgets/base",
            "_model_module_version": "1.2.0",
            "_model_name": "LayoutModel",
            "_view_count": null,
            "_view_module": "@jupyter-widgets/base",
            "_view_module_version": "1.2.0",
            "_view_name": "LayoutView",
            "align_content": null,
            "align_items": null,
            "align_self": null,
            "border": null,
            "bottom": null,
            "display": null,
            "flex": null,
            "flex_flow": null,
            "grid_area": null,
            "grid_auto_columns": null,
            "grid_auto_flow": null,
            "grid_auto_rows": null,
            "grid_column": null,
            "grid_gap": null,
            "grid_row": null,
            "grid_template_areas": null,
            "grid_template_columns": null,
            "grid_template_rows": null,
            "height": null,
            "justify_content": null,
            "justify_items": null,
            "left": null,
            "margin": null,
            "max_height": null,
            "max_width": null,
            "min_height": null,
            "min_width": null,
            "object_fit": null,
            "object_position": null,
            "order": null,
            "overflow": null,
            "overflow_x": null,
            "overflow_y": null,
            "padding": null,
            "right": null,
            "top": null,
            "visibility": null,
            "width": null
          }
        },
        "737967bbf8d94f1ba216f8b541c40767": {
          "model_module": "@jupyter-widgets/base",
          "model_name": "LayoutModel",
          "model_module_version": "1.2.0",
          "state": {
            "_model_module": "@jupyter-widgets/base",
            "_model_module_version": "1.2.0",
            "_model_name": "LayoutModel",
            "_view_count": null,
            "_view_module": "@jupyter-widgets/base",
            "_view_module_version": "1.2.0",
            "_view_name": "LayoutView",
            "align_content": null,
            "align_items": null,
            "align_self": null,
            "border": null,
            "bottom": null,
            "display": null,
            "flex": null,
            "flex_flow": null,
            "grid_area": null,
            "grid_auto_columns": null,
            "grid_auto_flow": null,
            "grid_auto_rows": null,
            "grid_column": null,
            "grid_gap": null,
            "grid_row": null,
            "grid_template_areas": null,
            "grid_template_columns": null,
            "grid_template_rows": null,
            "height": null,
            "justify_content": null,
            "justify_items": null,
            "left": null,
            "margin": null,
            "max_height": null,
            "max_width": null,
            "min_height": null,
            "min_width": null,
            "object_fit": null,
            "object_position": null,
            "order": null,
            "overflow": null,
            "overflow_x": null,
            "overflow_y": null,
            "padding": null,
            "right": null,
            "top": null,
            "visibility": null,
            "width": null
          }
        },
        "9fd5de08ddce4c9dbda129462d9b3a78": {
          "model_module": "@jupyter-widgets/controls",
          "model_name": "DescriptionStyleModel",
          "model_module_version": "1.5.0",
          "state": {
            "_model_module": "@jupyter-widgets/controls",
            "_model_module_version": "1.5.0",
            "_model_name": "DescriptionStyleModel",
            "_view_count": null,
            "_view_module": "@jupyter-widgets/base",
            "_view_module_version": "1.2.0",
            "_view_name": "StyleView",
            "description_width": ""
          }
        },
        "32292211ca3b4ab2ad1103e7fb6531d9": {
          "model_module": "@jupyter-widgets/base",
          "model_name": "LayoutModel",
          "model_module_version": "1.2.0",
          "state": {
            "_model_module": "@jupyter-widgets/base",
            "_model_module_version": "1.2.0",
            "_model_name": "LayoutModel",
            "_view_count": null,
            "_view_module": "@jupyter-widgets/base",
            "_view_module_version": "1.2.0",
            "_view_name": "LayoutView",
            "align_content": null,
            "align_items": null,
            "align_self": null,
            "border": null,
            "bottom": null,
            "display": null,
            "flex": null,
            "flex_flow": null,
            "grid_area": null,
            "grid_auto_columns": null,
            "grid_auto_flow": null,
            "grid_auto_rows": null,
            "grid_column": null,
            "grid_gap": null,
            "grid_row": null,
            "grid_template_areas": null,
            "grid_template_columns": null,
            "grid_template_rows": null,
            "height": null,
            "justify_content": null,
            "justify_items": null,
            "left": null,
            "margin": null,
            "max_height": null,
            "max_width": null,
            "min_height": null,
            "min_width": null,
            "object_fit": null,
            "object_position": null,
            "order": null,
            "overflow": null,
            "overflow_x": null,
            "overflow_y": null,
            "padding": null,
            "right": null,
            "top": null,
            "visibility": null,
            "width": null
          }
        },
        "6abfa5fed8804a2fa0f2a74b67a994d1": {
          "model_module": "@jupyter-widgets/controls",
          "model_name": "ProgressStyleModel",
          "model_module_version": "1.5.0",
          "state": {
            "_model_module": "@jupyter-widgets/controls",
            "_model_module_version": "1.5.0",
            "_model_name": "ProgressStyleModel",
            "_view_count": null,
            "_view_module": "@jupyter-widgets/base",
            "_view_module_version": "1.2.0",
            "_view_name": "StyleView",
            "bar_color": null,
            "description_width": ""
          }
        },
        "148abeba39ba4059bd55334981996ff4": {
          "model_module": "@jupyter-widgets/base",
          "model_name": "LayoutModel",
          "model_module_version": "1.2.0",
          "state": {
            "_model_module": "@jupyter-widgets/base",
            "_model_module_version": "1.2.0",
            "_model_name": "LayoutModel",
            "_view_count": null,
            "_view_module": "@jupyter-widgets/base",
            "_view_module_version": "1.2.0",
            "_view_name": "LayoutView",
            "align_content": null,
            "align_items": null,
            "align_self": null,
            "border": null,
            "bottom": null,
            "display": null,
            "flex": null,
            "flex_flow": null,
            "grid_area": null,
            "grid_auto_columns": null,
            "grid_auto_flow": null,
            "grid_auto_rows": null,
            "grid_column": null,
            "grid_gap": null,
            "grid_row": null,
            "grid_template_areas": null,
            "grid_template_columns": null,
            "grid_template_rows": null,
            "height": null,
            "justify_content": null,
            "justify_items": null,
            "left": null,
            "margin": null,
            "max_height": null,
            "max_width": null,
            "min_height": null,
            "min_width": null,
            "object_fit": null,
            "object_position": null,
            "order": null,
            "overflow": null,
            "overflow_x": null,
            "overflow_y": null,
            "padding": null,
            "right": null,
            "top": null,
            "visibility": null,
            "width": null
          }
        },
        "75b5a101ea594b899030f734ff4f0021": {
          "model_module": "@jupyter-widgets/controls",
          "model_name": "DescriptionStyleModel",
          "model_module_version": "1.5.0",
          "state": {
            "_model_module": "@jupyter-widgets/controls",
            "_model_module_version": "1.5.0",
            "_model_name": "DescriptionStyleModel",
            "_view_count": null,
            "_view_module": "@jupyter-widgets/base",
            "_view_module_version": "1.2.0",
            "_view_name": "StyleView",
            "description_width": ""
          }
        }
      }
    }
  },
  "cells": [
    {
      "cell_type": "code",
      "execution_count": 1,
      "metadata": {
        "colab": {
          "base_uri": "https://localhost:8080/"
        },
        "id": "wLSxHg2qrnua",
        "outputId": "a0158cb7-a36c-4892-9002-5481a871fc29"
      },
      "outputs": [
        {
          "output_type": "stream",
          "name": "stdout",
          "text": [
            "Mounted at /content/drive\n"
          ]
        }
      ],
      "source": [
        "import os\n",
        "import random\n",
        "import torch\n",
        "import torch.nn as nn\n",
        "import torch.nn.parallel\n",
        "import torch.backends.cudnn as cudnn\n",
        "import torch.optim as optim\n",
        "import torch.utils.data\n",
        "import torchvision.datasets as dset\n",
        "import torchvision.transforms as transforms\n",
        "import torchvision.utils as vutils\n",
        "import matplotlib.pyplot as plt\n",
        "from torch.utils.data import DataLoader\n",
        "import numpy as np\n",
        "import math\n",
        "from imutils import build_montages\n",
        "import cv2\n",
        "import os\n",
        "\n",
        "from google.colab import drive\n",
        "drive.mount('/content/drive')"
      ]
    },
    {
      "cell_type": "code",
      "source": [
        "device = 'cuda' if torch.cuda.is_available() else 'cpu'\n",
        "nc = 1 # Number of channels \n",
        "nz = 128 # Input noise dimension\n",
        "ngf = 128 # Number of generator filters\n",
        "ndf = 128 # Number of discriminator filters\n",
        "l_rate = 0.0002\n",
        "batch_size = 64 \n",
        "epochs = 20 \n",
        "\n",
        "print('using {}'.format(device))"
      ],
      "metadata": {
        "colab": {
          "base_uri": "https://localhost:8080/"
        },
        "id": "z5aEJRx5sAIl",
        "outputId": "8dc0a1df-0dbd-48e8-c25b-8415e73596ca"
      },
      "execution_count": 2,
      "outputs": [
        {
          "output_type": "stream",
          "name": "stdout",
          "text": [
            "using cuda\n"
          ]
        }
      ]
    },
    {
      "cell_type": "markdown",
      "source": [
        "Dataset preparation"
      ],
      "metadata": {
        "id": "mTHcrmjbsS8W"
      }
    },
    {
      "cell_type": "code",
      "source": [
        "trainData = dset.FashionMNIST(root='./data', download=True,train = True,\n",
        "                       transform=transforms.Compose([\n",
        "                           transforms.Resize(28),\n",
        "                           transforms.ToTensor(),\n",
        "                           transforms.Normalize((0.5,), (0.5,)),\n",
        "                       ]))\n",
        "\n",
        "testData = dset.FashionMNIST(root='./data', download=True,train = False,\n",
        "                       transform=transforms.Compose([\n",
        "                           transforms.Resize(28),\n",
        "                           transforms.ToTensor(),\n",
        "                           transforms.Normalize((0.5,), (0.5,)),\n",
        "                       ]))\n",
        " \n",
        "class_names = ['T-shirt/top', 'Trouser', 'Pullover', 'Dress', 'Coat','Sandal', 'Shirt', 'Sneaker', 'Bag', 'Ankle boot']\n",
        "data = torch.utils.data.ConcatDataset((trainData, testData))\n",
        "dataloader = DataLoader(data, shuffle=True,batch_size=batch_size)\n",
        "inputs, classes = next(iter(dataloader))  \n",
        "\n",
        "#plt.title('Fasion MNIST dataset \\n {}'.format(class_names[classes[0]]))\n",
        "plt.imshow(torch.squeeze(inputs[0]).numpy())\n",
        "plt.axis('off');"
      ],
      "metadata": {
        "colab": {
          "base_uri": "https://localhost:8080/",
          "height": 654,
          "referenced_widgets": [
            "9ed8135772cc405abcf72bf6c1a727b6",
            "59dce47600f64a8c81215e769317c345",
            "78d0c4c28176455fb096f5451b0ee2e4",
            "1fbec16fe1cf42b2949b6a2fec2badba",
            "16492d8f7d6341f598b6ac00093991a5",
            "07c11129164945af8129eabc10190a11",
            "e2ef24ce515545d597d0568fbe6d4094",
            "b85223590d664203b1b6bbd6257ad834",
            "771efa958bcf48bca934e4ad5b13bd13",
            "95df37d33d5042c5ab36bb958a7630c5",
            "e1cc54d855f44a54ba3ddd8070816d94",
            "31fb5f8d5cc54ea088a0962dca063d54",
            "574763c62f114449933add0096ff5575",
            "ea66ef45f36349cdbce457eee645aba3",
            "61706dcfb7c94f878051898c04af5e2f",
            "d22ed0c12b614e35899049b061a96863",
            "c48587b1dcc24632b677a93833154f29",
            "d2efa113c2364b88b361c16923a7fd04",
            "c9acf313aa9643bda097ba9a1a22d0f3",
            "553c8bb345284114bc8bce7ce13688ed",
            "c889232e37904e88a15dd5bd698b7ee8",
            "f573b3fa32d14a9f9d1d52d96d31bf09",
            "53df761d649e439b9434c765a8b2f5e1",
            "9bb860a6335b47f8bf24d8c93d13d324",
            "411f1f80a1a34a5d9ae0065afb0467c6",
            "74af74065ab94b688f14984b879cfa5a",
            "fceb4750c8ab49d4bbc06f569fb6e3a1",
            "690e14e7c00a4b7ea42bfce26df50654",
            "724f7c5d0b8c4ab1a4af20d7d36c9c06",
            "2fff046448c04616a753cc74677dc76a",
            "c3ef7840b3f147c1bc3d09690cf31c0f",
            "6e38eeae24cb46adb3aaaee7970461db",
            "9832fbf06c904c04aad3fd12ae66bb1d",
            "9c7a2caa30144d25830de744449b288e",
            "3e4330daad0f416fb59c890fac6acbb6",
            "98bef8c631594eda8acc9f6bf9c42eb0",
            "adb73489d206404ebcb9af0a940407be",
            "baf767b627f547d1a05a87c0ea99cbb5",
            "737967bbf8d94f1ba216f8b541c40767",
            "9fd5de08ddce4c9dbda129462d9b3a78",
            "32292211ca3b4ab2ad1103e7fb6531d9",
            "6abfa5fed8804a2fa0f2a74b67a994d1",
            "148abeba39ba4059bd55334981996ff4",
            "75b5a101ea594b899030f734ff4f0021"
          ]
        },
        "id": "giRVBSY_sXSw",
        "outputId": "def2e674-35fc-4a68-db27-041082502b8d"
      },
      "execution_count": 3,
      "outputs": [
        {
          "output_type": "stream",
          "name": "stdout",
          "text": [
            "Downloading http://fashion-mnist.s3-website.eu-central-1.amazonaws.com/train-images-idx3-ubyte.gz\n",
            "Downloading http://fashion-mnist.s3-website.eu-central-1.amazonaws.com/train-images-idx3-ubyte.gz to ./data/FashionMNIST/raw/train-images-idx3-ubyte.gz\n"
          ]
        },
        {
          "output_type": "display_data",
          "data": {
            "text/plain": [
              "  0%|          | 0/26421880 [00:00<?, ?it/s]"
            ],
            "application/vnd.jupyter.widget-view+json": {
              "version_major": 2,
              "version_minor": 0,
              "model_id": "9ed8135772cc405abcf72bf6c1a727b6"
            }
          },
          "metadata": {}
        },
        {
          "output_type": "stream",
          "name": "stdout",
          "text": [
            "Extracting ./data/FashionMNIST/raw/train-images-idx3-ubyte.gz to ./data/FashionMNIST/raw\n",
            "\n",
            "Downloading http://fashion-mnist.s3-website.eu-central-1.amazonaws.com/train-labels-idx1-ubyte.gz\n",
            "Downloading http://fashion-mnist.s3-website.eu-central-1.amazonaws.com/train-labels-idx1-ubyte.gz to ./data/FashionMNIST/raw/train-labels-idx1-ubyte.gz\n"
          ]
        },
        {
          "output_type": "display_data",
          "data": {
            "text/plain": [
              "  0%|          | 0/29515 [00:00<?, ?it/s]"
            ],
            "application/vnd.jupyter.widget-view+json": {
              "version_major": 2,
              "version_minor": 0,
              "model_id": "31fb5f8d5cc54ea088a0962dca063d54"
            }
          },
          "metadata": {}
        },
        {
          "output_type": "stream",
          "name": "stdout",
          "text": [
            "Extracting ./data/FashionMNIST/raw/train-labels-idx1-ubyte.gz to ./data/FashionMNIST/raw\n",
            "\n",
            "Downloading http://fashion-mnist.s3-website.eu-central-1.amazonaws.com/t10k-images-idx3-ubyte.gz\n",
            "Downloading http://fashion-mnist.s3-website.eu-central-1.amazonaws.com/t10k-images-idx3-ubyte.gz to ./data/FashionMNIST/raw/t10k-images-idx3-ubyte.gz\n"
          ]
        },
        {
          "output_type": "display_data",
          "data": {
            "text/plain": [
              "  0%|          | 0/4422102 [00:00<?, ?it/s]"
            ],
            "application/vnd.jupyter.widget-view+json": {
              "version_major": 2,
              "version_minor": 0,
              "model_id": "53df761d649e439b9434c765a8b2f5e1"
            }
          },
          "metadata": {}
        },
        {
          "output_type": "stream",
          "name": "stdout",
          "text": [
            "Extracting ./data/FashionMNIST/raw/t10k-images-idx3-ubyte.gz to ./data/FashionMNIST/raw\n",
            "\n",
            "Downloading http://fashion-mnist.s3-website.eu-central-1.amazonaws.com/t10k-labels-idx1-ubyte.gz\n",
            "Downloading http://fashion-mnist.s3-website.eu-central-1.amazonaws.com/t10k-labels-idx1-ubyte.gz to ./data/FashionMNIST/raw/t10k-labels-idx1-ubyte.gz\n"
          ]
        },
        {
          "output_type": "display_data",
          "data": {
            "text/plain": [
              "  0%|          | 0/5148 [00:00<?, ?it/s]"
            ],
            "application/vnd.jupyter.widget-view+json": {
              "version_major": 2,
              "version_minor": 0,
              "model_id": "9c7a2caa30144d25830de744449b288e"
            }
          },
          "metadata": {}
        },
        {
          "output_type": "stream",
          "name": "stdout",
          "text": [
            "Extracting ./data/FashionMNIST/raw/t10k-labels-idx1-ubyte.gz to ./data/FashionMNIST/raw\n",
            "\n"
          ]
        },
        {
          "output_type": "display_data",
          "data": {
            "text/plain": [
              "<Figure size 432x288 with 1 Axes>"
            ],
            "image/png": "[encoded data removed]"
          },
          "metadata": {
            "needs_background": "light"
          }
        }
      ]
    },
    {
      "cell_type": "markdown",
      "source": [
        "Model"
      ],
      "metadata": {
        "id": "wv-41xauseKc"
      }
    },
    {
      "cell_type": "code",
      "source": [
        "def weights_init(m):\n",
        "    classname = m.__class__.__name__\n",
        "    if classname.find('Conv') != -1:\n",
        "        m.weight.data.normal_(0.0, 0.02)\n",
        "    elif classname.find('BatchNorm') != -1:\n",
        "        m.weight.data.normal_(1.0, 0.02)\n",
        "        m.bias.data.fill_(0)"
      ],
      "metadata": {
        "id": "VeQkPsxfsfGa"
      },
      "execution_count": 4,
      "outputs": []
    },
    {
      "cell_type": "code",
      "source": [
        "class Generator(nn.Module):\n",
        "    def __init__(self, nz=128, ngf=128, nc=1):\n",
        "        super(Generator, self).__init__()\n",
        "        self.ngf = ngf\n",
        "        # Layer 1 : FC. Output size - ngf*4*4\n",
        "        self.Linear = nn.Sequential(\n",
        "            nn.Linear(in_features = nz, out_features = ngf*4*4, bias=True),\n",
        "            nn.BatchNorm1d(ngf*4*4),\n",
        "            nn.ReLU(True))\n",
        "\n",
        "        # Layer 2 : Output size - ngf*8*8\n",
        "        self.ConvT1 = nn.Sequential(\n",
        "            nn.ConvTranspose2d(in_channels = ngf, out_channels = ngf, \n",
        "            kernel_size = 4,stride = 2, padding = 1, bias=False),\n",
        "            nn.BatchNorm2d(ngf),\n",
        "            nn.ReLU(True))\n",
        "\n",
        "        # Layer 3 : Output size - ngf*16*16\n",
        "        self.ConvT2 =  nn.Sequential(\n",
        "            nn.ConvTranspose2d(ngf, ngf, 4, 2, 1, bias=False),\n",
        "            nn.BatchNorm2d(ngf),\n",
        "            nn.ReLU(True))\n",
        "\n",
        "        # Layer 4 : Output size- ngf*32*32\n",
        "        self.ConvT3 = nn.Sequential(\n",
        "            nn.ConvTranspose2d(ngf, ngf, 4, 2, 1, bias=False),\n",
        "            nn.BatchNorm2d(ngf),\n",
        "            nn.ReLU(True))\n",
        "\n",
        "        # Layer 5 : Output size- nc*32*32. Increased kernel size to recieve proper image size.\n",
        "        self.Conv = nn.Sequential(\n",
        "            nn.Conv2d(ngf,nc, kernel_size=7, stride=1, padding=1, bias=False),\n",
        "            nn.Tanh())\n",
        "\n",
        "    def forward(self, z):\n",
        "       \n",
        "        out = self.Linear(z)\n",
        "        out = out.reshape([out.shape[0], self.ngf, 4, 4])\n",
        "        out = self.ConvT1(out)\n",
        "        out = self.ConvT2(out)\n",
        "        out = self.ConvT3(out)\n",
        "        out = self.Conv(out)\n",
        "        return out\n",
        "\n",
        "class Discriminator(nn.Module):\n",
        "    def __init__(self, ndf, nc=1):\n",
        "        super(Discriminator, self).__init__()\n",
        "\n",
        "        # Layer 1 : Output size - ndf*16*16\n",
        "        self.Conv1 = nn.Sequential(\n",
        "            nn.Conv2d(nc,ndf, kernel_size=3, stride=2, padding=3, bias=False),\n",
        "            nn.LeakyReLU(0.2, inplace=True))\n",
        "        \n",
        "        # Layer 2 : Output size - ndf*8*8\n",
        "        self.Conv2 = nn.Sequential(\n",
        "            nn.Conv2d(ndf,ndf, kernel_size=3, stride=2, padding=1, bias=False),\n",
        "            nn.BatchNorm2d(ndf),\n",
        "            nn.LeakyReLU(0.2, inplace=True))\n",
        "\n",
        "        # Layer 3 : Output size - ndf*8*8\n",
        "        self.Conv3 = nn.Sequential(\n",
        "            nn.Conv2d(ndf,ndf, kernel_size=3, stride=1, padding=1, bias=False),\n",
        "            nn.BatchNorm2d(ndf),\n",
        "            nn.LeakyReLU(0.2, inplace=True))\n",
        "\n",
        "        # Layer 4 : Output size - ndf*8*8\n",
        "        self.Conv4 = nn.Sequential(\n",
        "            nn.Conv2d(ndf,ndf, kernel_size=3, stride=1, padding=1, bias=False),\n",
        "            nn.BatchNorm2d(ndf),\n",
        "            nn.LeakyReLU(0.2, inplace=True))\n",
        "        \n",
        "        # Layer 5 : Mean pooling\n",
        "        self.MeanPool = nn.AvgPool2d(8, stride=1)\n",
        "        \n",
        "        self.Linear = nn.Sequential(\n",
        "            nn.Linear(in_features = ndf, out_features = 1, bias=True),\n",
        "            nn.Sigmoid())\n",
        "\n",
        "    def forward(self, input):\n",
        "       # Input - vector Z with size nz\n",
        "        out = self.Conv1(input)\n",
        "        out = self.Conv2(out)\n",
        "        out = self.Conv3(out)\n",
        "        out = self.Conv4(out)\n",
        "        out =  self.MeanPool(out)\n",
        "        out = np.squeeze(out)\n",
        "        out = self.Linear(out)\n",
        "        return out\n",
        "\n"
      ],
      "metadata": {
        "id": "B0FGrnWht_eZ"
      },
      "execution_count": 5,
      "outputs": []
    },
    {
      "cell_type": "code",
      "source": [
        "def Save_Model(_Generator,_Discriminator,nz,epoch,batch_size,master_path,net_type):\n",
        "    save_path = os.path.join(master_path,net_type)\n",
        "    if not os.path.isdir(save_path):\n",
        "        os.mkdir(save_path)\n",
        "    noise = torch.randn(64, nz, device=device)\n",
        "    _Generator.eval()\n",
        "    with torch.no_grad():\n",
        "      images = _Generator(noise)\n",
        "      images = images.detach().cpu().numpy().transpose((0, 2, 3, 1))\n",
        "      images = ((images * 127.5) + 127.5).astype(\"uint8\")\n",
        "      images = np.repeat(images, 3, axis=-1)\n",
        "      vis = build_montages(images, (28, 28), (8, 8))[0]\n",
        "      p = os.path.join(save_path,\"epoch_{}.png\".format(epoch))\n",
        "      cv2.imwrite(p, vis)\n",
        "    _Generator.train()\n",
        "    torch.save(_Generator.state_dict(),os.path.join(save_path,\"epoch_{}_Generator.p\".format(epoch) ))\n",
        "    torch.save(_Discriminator.state_dict(),os.path.join(save_path,\"epoch_{}_Discriminator.p\".format(epoch)))\n"
      ],
      "metadata": {
        "id": "VLaKsjHIu2_S"
      },
      "execution_count": 6,
      "outputs": []
    },
    {
      "cell_type": "code",
      "source": [
        "def train(criterion, dataloader, D_net, G_net, nz, l_rate, num_iter,net_type,batch_size,clip,clip_value,dec_iter,save_path):\n",
        "\n",
        "    optimizerD = optim.Adam(D_net.parameters(), lr=l_rate, betas=(0.5, 0.999))\n",
        "    optimizerG = optim.Adam(G_net.parameters(), lr=l_rate, betas=(0.5, 0.999))\n",
        "\n",
        "    LossD,LossG = [], []\n",
        "    print('training for {} epochs'.format(num_iter))\n",
        "\n",
        "    for epoch in range(num_iter):\n",
        "\n",
        "        epochLossD, epochLossG = [],[]\n",
        "\n",
        "        D_net.train()\n",
        "        G_net.train()\n",
        "        for batch, data in enumerate(dataloader): \n",
        "\n",
        "            # Train discriminator with real image\n",
        "            D_net.zero_grad()\n",
        "            real = torch.tensor(data[0],device=device)\n",
        "            input_size = real.size(0)\n",
        "            label = torch.full((input_size,1), 1.0, device=device)\n",
        "            output = D_net(real)\n",
        "\n",
        "            errD_real = criterion(output, label)\n",
        "            errD_real.backward()\n",
        "            D_x = output.mean().item()\n",
        "\n",
        "            # Train discriminator with fake image\n",
        "            noise = torch.randn(input_size, nz, device=device)\n",
        "            fake = G_net(noise)\n",
        "            label.fill_(0.0)\n",
        "            output = D_net(fake.detach())\n",
        "            errD_fake = criterion(output, label)\n",
        "            errD_fake.backward()\n",
        "            D_G_z1 = output.mean().item()\n",
        "\n",
        "            errD = errD_real + errD_fake\n",
        "            optimizerD.step()\n",
        "\n",
        "            D_mean_acc = (1-D_G_z1+D_x)/2.0\n",
        "            clip_str = 'Without Clipping'\n",
        "            if clip :  # Clip weights of discriminator\n",
        "              clip_str = 'With Clipping'\n",
        "              for p in D_net.parameters():\n",
        "                  p.data.clamp_(-clip_value, clip_value)\n",
        "\n",
        "            # Train generator\n",
        "            if batch % dec_iter == 0:\n",
        "              G_net.zero_grad()\n",
        "              label.fill_(1.0) \n",
        "              output = D_net(fake)\n",
        "              errG = criterion(output, label)\n",
        "              errG.backward()\n",
        "              D_G_z2 = output.mean().item()\n",
        "              optimizerG.step()\n",
        "\n",
        "            epochLossD.append(errD.item())\n",
        "            epochLossG.append(errG.item())\n",
        "\n",
        "          \n",
        "\n",
        "        LossD.append(sum(epochLossD)/len(epochLossD))\n",
        "        LossG.append(sum(epochLossG)/len(epochLossG))\n",
        "\n",
        "        print(\"Epoch %d/%d : discriminator loss: %.2f , generator loss: %.2f, dis acc = %.2f\" \n",
        "              % (epoch+1,num_iter,float(LossD[-1]),float(LossG[-1]),float(D_mean_acc)))\n",
        "        \n",
        "        Save_Model(G_net,D_net,nz,epoch,batch_size,save_path,net_type)\n",
        "    plt.figure(figsize = (15,7))\n",
        "    plt.plot(np.arange(len(LossD)), LossD, label='Discriminator loss')\n",
        "    plt.plot(np.arange(len(LossG)), LossG, label='Generator loss')\n",
        "    plt.xlabel('Epochs')\n",
        "    plt.ylabel('Loss')\n",
        "    plt.xticks(np.arange(0,len(LossD)-1))\n",
        "    plt.legend()\n",
        "    plt.title('{} loss \\n {}'.format(net_type,clip_str))\n",
        "     \n",
        "    fig_save_path = os.path.join(save_path,net_type)\n",
        "    plt.savefig(os.path.join(fig_save_path,'{}.jpg'.format(net_type)))\n",
        "    plt.show()   \n",
        "    return LossD, LossG\n"
      ],
      "metadata": {
        "id": "tgsSmw3zu932"
      },
      "execution_count": 7,
      "outputs": []
    },
    {
      "cell_type": "markdown",
      "source": [
        "DCGAN Training"
      ],
      "metadata": {
        "id": "NTXOj4_jenVK"
      }
    },
    {
      "cell_type": "code",
      "source": [
        "net_str  = 'DCGAN'\n",
        "save_path = os.getcwd()\n",
        "device = torch.device(\"cuda:0\" if torch.cuda.is_available() else \"cpu\")\n",
        "G_net_DCGAN = Generator(nz, ngf, nc=1).to(device)\n",
        "G_net_DCGAN.apply(weights_init)\n",
        "\n",
        "D_net_DCGAN = Discriminator(ndf, nc=1).to(device)\n",
        "D_net_DCGAN.apply(weights_init)\n",
        "\n",
        "dec_iter = 1\n",
        "clip  = False\n",
        "clip_value = 0.01\n",
        "\n",
        "criterion = nn.BCELoss()\n",
        "loss_DCGAN = train(criterion,dataloader, D_net_DCGAN, G_net_DCGAN, nz, l_rate, epochs,net_str,batch_size,clip,clip_value,dec_iter,save_path)"
      ],
      "metadata": {
        "colab": {
          "base_uri": "https://localhost:8080/",
          "height": 875
        },
        "id": "kjv_07M3eqvo",
        "outputId": "41151dea-177f-489d-8d78-e1b916e5647a"
      },
      "execution_count": 8,
      "outputs": [
        {
          "output_type": "stream",
          "name": "stdout",
          "text": [
            "training for 20 epochs\n"
          ]
        },
        {
          "output_type": "stream",
          "name": "stderr",
          "text": [
            "/usr/local/lib/python3.7/dist-packages/ipykernel_launcher.py:19: UserWarning: To copy construct from a tensor, it is recommended to use sourceTensor.clone().detach() or sourceTensor.clone().detach().requires_grad_(True), rather than torch.tensor(sourceTensor).\n"
          ]
        },
        {
          "output_type": "stream",
          "name": "stdout",
          "text": [
            "Epoch 1/20 : discriminator loss: 0.95 , generator loss: 1.20, dis acc = 0.65\n",
            "Epoch 2/20 : discriminator loss: 0.93 , generator loss: 1.37, dis acc = 0.63\n",
            "Epoch 3/20 : discriminator loss: 0.94 , generator loss: 1.36, dis acc = 0.63\n",
            "Epoch 4/20 : discriminator loss: 0.98 , generator loss: 1.33, dis acc = 0.71\n",
            "Epoch 5/20 : discriminator loss: 0.99 , generator loss: 1.33, dis acc = 0.65\n",
            "Epoch 6/20 : discriminator loss: 1.01 , generator loss: 1.32, dis acc = 0.61\n",
            "Epoch 7/20 : discriminator loss: 1.00 , generator loss: 1.33, dis acc = 0.67\n",
            "Epoch 8/20 : discriminator loss: 0.99 , generator loss: 1.34, dis acc = 0.56\n",
            "Epoch 9/20 : discriminator loss: 1.00 , generator loss: 1.33, dis acc = 0.63\n",
            "Epoch 10/20 : discriminator loss: 1.00 , generator loss: 1.33, dis acc = 0.65\n",
            "Epoch 11/20 : discriminator loss: 1.00 , generator loss: 1.34, dis acc = 0.57\n",
            "Epoch 12/20 : discriminator loss: 1.00 , generator loss: 1.34, dis acc = 0.61\n",
            "Epoch 13/20 : discriminator loss: 0.99 , generator loss: 1.36, dis acc = 0.58\n",
            "Epoch 14/20 : discriminator loss: 0.97 , generator loss: 1.38, dis acc = 0.61\n",
            "Epoch 15/20 : discriminator loss: 0.97 , generator loss: 1.39, dis acc = 0.71\n",
            "Epoch 16/20 : discriminator loss: 0.97 , generator loss: 1.40, dis acc = 0.63\n",
            "Epoch 17/20 : discriminator loss: 0.94 , generator loss: 1.43, dis acc = 0.60\n",
            "Epoch 18/20 : discriminator loss: 0.95 , generator loss: 1.43, dis acc = 0.61\n",
            "Epoch 19/20 : discriminator loss: 0.95 , generator loss: 1.44, dis acc = 0.70\n",
            "Epoch 20/20 : discriminator loss: 0.91 , generator loss: 1.50, dis acc = 0.65\n"
          ]
        },
        {
          "output_type": "display_data",
          "data": {
            "text/plain": [
              "<Figure size 1080x504 with 1 Axes>"
            ],
            "image/png": "[encoded data removed]"
          },
          "metadata": {
            "needs_background": "light"
          }
        }
      ]
    },
    {
      "cell_type": "markdown",
      "source": [
        "WGAN Training"
      ],
      "metadata": {
        "id": "EK_6a8V1jz9r"
      }
    },
    {
      "cell_type": "code",
      "source": [
        "def Wgan_loss(output, label):\n",
        "    loss = (1-label)*output - label*output \n",
        "    return torch.mean(loss)\n",
        "save_path = os.getcwd()\n",
        "\n",
        "l_rate_wgan = 5e-5\n",
        "dec_iter = 1\n",
        "net_str  = 'WGAN'\n",
        "IsWgan = 1\n",
        "clip  = True\n",
        "clip_value = 0.01\n",
        "\n",
        "G_net_WGAN = Generator(nz, ngf, nc=1).to(device)\n",
        "G_net_WGAN.apply(weights_init)\n",
        "\n",
        "D_net_WGAN= Discriminator(ndf, nc=1).to(device)\n",
        "D_net_WGAN.apply(weights_init)\n",
        "criterion = Wgan_loss\n",
        "loss_WGAN = train(criterion,dataloader, D_net_WGAN, G_net_WGAN, nz, l_rate, epochs,net_str,batch_size,clip,clip_value,dec_iter,save_path)"
      ],
      "metadata": {
        "colab": {
          "base_uri": "https://localhost:8080/",
          "height": 875
        },
        "id": "5ylbuiqij16_",
        "outputId": "89f83dc5-44cd-47c1-9b7b-ab0acf639897"
      },
      "execution_count": 9,
      "outputs": [
        {
          "output_type": "stream",
          "name": "stdout",
          "text": [
            "training for 20 epochs\n"
          ]
        },
        {
          "output_type": "stream",
          "name": "stderr",
          "text": [
            "/usr/local/lib/python3.7/dist-packages/ipykernel_launcher.py:19: UserWarning: To copy construct from a tensor, it is recommended to use sourceTensor.clone().detach() or sourceTensor.clone().detach().requires_grad_(True), rather than torch.tensor(sourceTensor).\n"
          ]
        },
        {
          "output_type": "stream",
          "name": "stdout",
          "text": [
            "Epoch 1/20 : discriminator loss: -0.00 , generator loss: -0.50, dis acc = 0.50\n",
            "Epoch 2/20 : discriminator loss: -0.00 , generator loss: -0.50, dis acc = 0.50\n",
            "Epoch 3/20 : discriminator loss: -0.00 , generator loss: -0.50, dis acc = 0.50\n",
            "Epoch 4/20 : discriminator loss: -0.00 , generator loss: -0.50, dis acc = 0.50\n",
            "Epoch 5/20 : discriminator loss: -0.00 , generator loss: -0.50, dis acc = 0.50\n",
            "Epoch 6/20 : discriminator loss: -0.00 , generator loss: -0.50, dis acc = 0.50\n",
            "Epoch 7/20 : discriminator loss: -0.00 , generator loss: -0.50, dis acc = 0.50\n",
            "Epoch 8/20 : discriminator loss: -0.00 , generator loss: -0.50, dis acc = 0.50\n",
            "Epoch 9/20 : discriminator loss: -0.00 , generator loss: -0.50, dis acc = 0.50\n",
            "Epoch 10/20 : discriminator loss: -0.00 , generator loss: -0.50, dis acc = 0.50\n",
            "Epoch 11/20 : discriminator loss: -0.00 , generator loss: -0.50, dis acc = 0.50\n",
            "Epoch 12/20 : discriminator loss: -0.00 , generator loss: -0.50, dis acc = 0.50\n",
            "Epoch 13/20 : discriminator loss: -0.00 , generator loss: -0.50, dis acc = 0.50\n",
            "Epoch 14/20 : discriminator loss: -0.00 , generator loss: -0.50, dis acc = 0.50\n",
            "Epoch 15/20 : discriminator loss: -0.00 , generator loss: -0.50, dis acc = 0.50\n",
            "Epoch 16/20 : discriminator loss: -0.00 , generator loss: -0.50, dis acc = 0.50\n",
            "Epoch 17/20 : discriminator loss: -0.00 , generator loss: -0.50, dis acc = 0.50\n",
            "Epoch 18/20 : discriminator loss: -0.00 , generator loss: -0.50, dis acc = 0.50\n",
            "Epoch 19/20 : discriminator loss: -0.00 , generator loss: -0.50, dis acc = 0.50\n",
            "Epoch 20/20 : discriminator loss: -0.00 , generator loss: -0.50, dis acc = 0.50\n"
          ]
        },
        {
          "output_type": "display_data",
          "data": {
            "text/plain": [
              "<Figure size 1080x504 with 1 Axes>"
            ],
            "image/png": "[encoded data removed]"
          },
          "metadata": {
            "needs_background": "light"
          }
        }
      ]
    },
    {
      "cell_type": "markdown",
      "source": [
        "Model Evaluation"
      ],
      "metadata": {
        "id": "Cso0I963p3uk"
      }
    },
    {
      "cell_type": "code",
      "source": [
        "net_str  = 'DCGAN'\n",
        "load_path = os.getcwd()\n",
        "\n",
        "G_net_DCGAN = Generator(nz, ngf, nc=1).to(device)\n",
        "weights_DCGN = torch.load(os.path.join(load_path, '{}_Generator.p'.format(net_str)))\n",
        "G_net_DCGAN.load_state_dict(weights_DCGN)\n",
        "noise = torch.randn(1, nz, device=device)\n",
        "\n",
        "G_net_DCGAN.eval()\n",
        "with torch.no_grad():\n",
        "  fake_DCGAN = G_net_DCGAN(noise)\n",
        "im = fake_DCGAN.detach().cpu().numpy()\n",
        "plt.imshow(np.squeeze(im));\n",
        "plt.axis('off')\n"
      ],
      "metadata": {
        "colab": {
          "base_uri": "https://localhost:8080/",
          "height": 265
        },
        "id": "EDROrmvNp5xK",
        "outputId": "428f13af-6333-44ff-86ce-3ef2e5d53f52"
      },
      "execution_count": 19,
      "outputs": [
        {
          "output_type": "execute_result",
          "data": {
            "text/plain": [
              "(-0.5, 27.5, 27.5, -0.5)"
            ]
          },
          "metadata": {},
          "execution_count": 19
        },
        {
          "output_type": "display_data",
          "data": {
            "text/plain": [
              "<Figure size 432x288 with 1 Axes>"
            ],
            "image/png": "[encoded data removed]"
          },
          "metadata": {
            "needs_background": "light"
          }
        }
      ]
    },
    {
      "cell_type": "code",
      "source": [
        "net_str  = 'WGAN'\n",
        "load_path = os.getcwd()\n",
        "\n",
        "G_net_WGAN = Generator(nz, ngf, nc=1).to(device)\n",
        "weights_WGAN = torch.load(os.path.join(load_path, '{}_Generator.p'.format(net_str)))\n",
        "G_net_WGAN.load_state_dict(weights_WGAN)\n",
        "noise = torch.randn(1, nz, device=device)\n",
        "\n",
        "G_net_WGAN.eval()\n",
        "with torch.no_grad():\n",
        "  fake_WGAN = G_net_WGAN(noise)\n",
        "im = fake_WGAN.detach().cpu().numpy()\n",
        "plt.imshow(np.squeeze(im))\n",
        "plt.axis('off');\n"
      ],
      "metadata": {
        "colab": {
          "base_uri": "https://localhost:8080/",
          "height": 248
        },
        "id": "xnYdv077tw9D",
        "outputId": "cb297663-b748-4ca4-9df1-822af3395999"
      },
      "execution_count": 26,
      "outputs": [
        {
          "output_type": "display_data",
          "data": {
            "text/plain": [
              "<Figure size 432x288 with 1 Axes>"
            ],
            "image/png": "[encoded data removed]"
          },
          "metadata": {
            "needs_background": "light"
          }
        }
      ]
    }
  ]
}